{
  "nbformat": 4,
  "nbformat_minor": 0,
  "metadata": {
    "colab": {
      "name": "FontRecognizer.ipynb",
      "version": "0.3.2",
      "provenance": [],
      "collapsed_sections": []
    },
    "kernelspec": {
      "name": "python3",
      "display_name": "Python 3"
    },
    "accelerator": "GPU"
  },
  "cells": [
    {
      "metadata": {
        "id": "Es8q77vE6tzK",
        "colab_type": "code",
        "colab": {
          "base_uri": "https://localhost:8080/",
          "height": 53
        },
        "outputId": "11713445-945f-4489-caf9-044207052923"
      },
      "cell_type": "code",
      "source": [
        "!mkdir -p drive\n",
        "!google-drive-ocamlfuse drive"
      ],
      "execution_count": 1,
      "outputs": [
        {
          "output_type": "stream",
          "text": [
            "fuse: mountpoint is not empty\r\n",
            "fuse: if you are sure this is safe, use the 'nonempty' mount option\r\n"
          ],
          "name": "stdout"
        }
      ]
    },
    {
      "metadata": {
        "id": "w4D3o0NC63qB",
        "colab_type": "code",
        "colab": {}
      },
      "cell_type": "code",
      "source": [
        "import os\n",
        "os.getcwd()\n",
        "os.chdir(\"drive/Colab_Work/Mclain\")"
      ],
      "execution_count": 0,
      "outputs": []
    },
    {
      "metadata": {
        "id": "JqxHDMRt6pJm",
        "colab_type": "code",
        "colab": {
          "base_uri": "https://localhost:8080/",
          "height": 971
        },
        "outputId": "6b9683dd-c1e1-4e29-dd64-0adc04c71a5f"
      },
      "cell_type": "code",
      "source": [
        "import numpy as np\n",
        "import pandas as pd\n",
        "from NeuralNetwork import NeuralNetwork\n",
        "\n",
        "df_train = pd.read_csv('devnagri_train.csv', header=None)\n",
        "df_test = pd.read_csv('devnagri_test_public.csv', header=None)\n",
        "\n",
        "X = np.array(df_train.iloc[:, 1:]).T\n",
        "X = X / 255\n",
        "X_test = np.array(df_test.iloc[:, 1:]).T\n",
        "X_test = X_test / 255\n",
        "print(X.shape, X_test.shape)\n",
        "\n",
        "Y = np.array(df_train.iloc[:, :1]).T\n",
        "Y_test = np.array(df_test.iloc[:, :1]).T\n",
        "# One-hot encode the target\n",
        "num_classes = len(np.unique(Y))\n",
        "print(num_classes)\n",
        "Y = np.eye(num_classes)[Y.reshape(-1)].T\n",
        "Y_test = np.eye(num_classes)[Y_test.reshape(-1)].T\n",
        "print(Y.shape, Y_test.shape)\n",
        "\n",
        "num_inputs = X.shape[0]\n",
        "num_outputs = Y.shape[0]  # = num_classes\n",
        "hidden_archi = [128, 64]\n",
        "\n",
        "font_nn = NeuralNetwork(input_size = num_inputs,\n",
        "                        output_size = num_outputs,\n",
        "                        hidden_layer_sizes = hidden_archi,\n",
        "                        activation = \"relu\")\n",
        "\n",
        "font_nn.fit(X, Y, 0.01, 500, True, 32)\n",
        "\n",
        "Y_pred = font_nn.predict(X)"
      ],
      "execution_count": 5,
      "outputs": [
        {
          "output_type": "stream",
          "text": [
            "(1024, 78200) (1024, 6900)\n",
            "46\n",
            "(46, 78200) (46, 6900)\n",
            "Iteration: 0 Cost: 5.267337731478517\n",
            "Iteration: 10 Cost: 4.48399292918797\n",
            "Iteration: 20 Cost: 4.467870241707459\n",
            "Iteration: 30 Cost: 4.490718680557457\n",
            "Iteration: 40 Cost: 4.477540353434241\n",
            "Iteration: 50 Cost: 4.48153470656579\n",
            "Iteration: 60 Cost: 4.480117654114061\n",
            "Iteration: 70 Cost: 4.490402710697337\n",
            "Iteration: 80 Cost: 4.480025309564043\n",
            "Iteration: 90 Cost: 4.492013571306273\n",
            "Iteration: 100 Cost: 4.488901026468319\n",
            "Iteration: 110 Cost: 4.503883120365828\n",
            "Iteration: 120 Cost: 4.475502057444009\n",
            "Iteration: 130 Cost: 4.4807009513640566\n",
            "Iteration: 140 Cost: 4.482584430992461\n",
            "Iteration: 150 Cost: 4.474785601768024\n",
            "Iteration: 160 Cost: 4.48314485296304\n",
            "Iteration: 170 Cost: 4.491389021047398\n",
            "Iteration: 180 Cost: 4.466951726828516\n",
            "Iteration: 190 Cost: 4.475218179886051\n",
            "Iteration: 200 Cost: 4.481622615306707\n",
            "Iteration: 210 Cost: 4.472416983812134\n",
            "Iteration: 220 Cost: 4.484011069664665\n",
            "Iteration: 230 Cost: 4.478216898254977\n",
            "Iteration: 240 Cost: 4.491872638509461\n",
            "Iteration: 250 Cost: 4.481833877063746\n",
            "Iteration: 260 Cost: 4.483115596155344\n",
            "Iteration: 270 Cost: 4.483138538956885\n",
            "Iteration: 280 Cost: 4.479264818212033\n",
            "Iteration: 290 Cost: 4.479042271584366\n",
            "Iteration: 300 Cost: 4.475502057444009\n",
            "Iteration: 310 Cost: 4.480086458438926\n",
            "Iteration: 320 Cost: 4.4849421708204975\n",
            "Iteration: 330 Cost: 4.485943866610354\n",
            "Iteration: 340 Cost: 4.454454745002078\n",
            "Iteration: 350 Cost: 4.4892013025369035\n",
            "Iteration: 360 Cost: 4.471896912779246\n",
            "Iteration: 370 Cost: 4.474259955648323\n",
            "Iteration: 380 Cost: 4.488871108047748\n",
            "Iteration: 390 Cost: 4.475974541106307\n",
            "Iteration: 400 Cost: 4.47906673081048\n",
            "Iteration: 410 Cost: 4.478374173078139\n",
            "Iteration: 420 Cost: 4.469549025449136\n",
            "Iteration: 430 Cost: 4.482826620689021\n",
            "Iteration: 440 Cost: 4.491749204872773\n",
            "Iteration: 450 Cost: 4.49802241159481\n",
            "Iteration: 460 Cost: 4.482599167754104\n",
            "Iteration: 470 Cost: 4.495455099923397\n",
            "Iteration: 480 Cost: 4.4751842110737385\n",
            "Iteration: 490 Cost: 4.487634442042649\n"
          ],
          "name": "stdout"
        }
      ]
    },
    {
      "metadata": {
        "id": "5tYwCKTB7arP",
        "colab_type": "code",
        "colab": {
          "base_uri": "https://localhost:8080/",
          "height": 917
        },
        "outputId": "acaf9aca-1e23-4024-e5c9-e3dbedb61753"
      },
      "cell_type": "code",
      "source": [
        "font_nn.costs"
      ],
      "execution_count": 6,
      "outputs": [
        {
          "output_type": "execute_result",
          "data": {
            "text/plain": [
              "[5.267337731478517,\n",
              " 4.48399292918797,\n",
              " 4.467870241707459,\n",
              " 4.490718680557457,\n",
              " 4.477540353434241,\n",
              " 4.48153470656579,\n",
              " 4.480117654114061,\n",
              " 4.490402710697337,\n",
              " 4.480025309564043,\n",
              " 4.492013571306273,\n",
              " 4.488901026468319,\n",
              " 4.503883120365828,\n",
              " 4.475502057444009,\n",
              " 4.4807009513640566,\n",
              " 4.482584430992461,\n",
              " 4.474785601768024,\n",
              " 4.48314485296304,\n",
              " 4.491389021047398,\n",
              " 4.466951726828516,\n",
              " 4.475218179886051,\n",
              " 4.481622615306707,\n",
              " 4.472416983812134,\n",
              " 4.484011069664665,\n",
              " 4.478216898254977,\n",
              " 4.491872638509461,\n",
              " 4.481833877063746,\n",
              " 4.483115596155344,\n",
              " 4.483138538956885,\n",
              " 4.479264818212033,\n",
              " 4.479042271584366,\n",
              " 4.475502057444009,\n",
              " 4.480086458438926,\n",
              " 4.4849421708204975,\n",
              " 4.485943866610354,\n",
              " 4.454454745002078,\n",
              " 4.4892013025369035,\n",
              " 4.471896912779246,\n",
              " 4.474259955648323,\n",
              " 4.488871108047748,\n",
              " 4.475974541106307,\n",
              " 4.47906673081048,\n",
              " 4.478374173078139,\n",
              " 4.469549025449136,\n",
              " 4.482826620689021,\n",
              " 4.491749204872773,\n",
              " 4.49802241159481,\n",
              " 4.482599167754104,\n",
              " 4.495455099923397,\n",
              " 4.4751842110737385,\n",
              " 4.487634442042649]"
            ]
          },
          "metadata": {
            "tags": []
          },
          "execution_count": 6
        }
      ]
    },
    {
      "metadata": {
        "id": "Dma2wKB-SnF_",
        "colab_type": "code",
        "colab": {}
      },
      "cell_type": "code",
      "source": [
        "import matplotlib.pyplot as plt"
      ],
      "execution_count": 0,
      "outputs": []
    },
    {
      "metadata": {
        "id": "48yJltwmSnJ6",
        "colab_type": "code",
        "colab": {
          "base_uri": "https://localhost:8080/",
          "height": 361
        },
        "outputId": "bd2723ef-031d-498f-b97c-1ccd4d3dce41"
      },
      "cell_type": "code",
      "source": [
        "plt.plot(range(0, 500, 10), font_nn.costs)\n",
        "plt.xlabel(\"No. of Epochs\")\n",
        "plt.ylabel(\"Mean Squared Error\")\n",
        "plt.ylim((4, 5.5))\n",
        "plt.show()"
      ],
      "execution_count": 11,
      "outputs": [
        {
          "output_type": "display_data",
          "data": {
            "image/png": "[encoded data removed]",
            "text/plain": [
              "<matplotlib.figure.Figure at 0x7ff039afb6d8>"
            ]
          },
          "metadata": {
            "tags": []
          }
        }
      ]
    },
    {
      "metadata": {
        "id": "l6hDEa-SSnOv",
        "colab_type": "code",
        "colab": {}
      },
      "cell_type": "code",
      "source": [
        ""
      ],
      "execution_count": 0,
      "outputs": []
    },
    {
      "metadata": {
        "id": "5n1O_-UySnNU",
        "colab_type": "code",
        "colab": {}
      },
      "cell_type": "code",
      "source": [
        ""
      ],
      "execution_count": 0,
      "outputs": []
    }
  ]
}